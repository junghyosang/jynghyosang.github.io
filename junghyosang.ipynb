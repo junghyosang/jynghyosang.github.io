{
  "nbformat": 4,
  "nbformat_minor": 0,
  "metadata": {
    "colab": {
      "name": "junghyosang.ipynb",
      "provenance": [],
      "collapsed_sections": [],
      "authorship_tag": "ABX9TyM7clne6pQgGpV193HpcnwC",
      "include_colab_link": true
    },
    "kernelspec": {
      "name": "python3",
      "display_name": "Python 3"
    }
  },
  "cells": [
    {
      "cell_type": "markdown",
      "metadata": {
        "id": "view-in-github",
        "colab_type": "text"
      },
      "source": [
        "<a href=\"https://colab.research.google.com/github/junghyosang/jynghyosang.github.io/blob/master/junghyosang.ipynb\" target=\"_parent\"><img src=\"https://colab.research.google.com/assets/colab-badge.svg\" alt=\"Open In Colab\"/></a>"
      ]
    },
    {
      "cell_type": "markdown",
      "metadata": {
        "id": "dgCNS5g53bXf",
        "colab_type": "text"
      },
      "source": [
        ""
      ]
    },
    {
      "cell_type": "markdown",
      "metadata": {
        "id": "zvPP0GK3CSJv",
        "colab_type": "text"
      },
      "source": [
        "# **1.인공지능 번역서비스 플리토**\n",
        "[똑똑한 AI 만드는 언어의 세계](https://www.mobiinside.co.kr/2020/03/16/flitto-data/)\n",
        "\n",
        "# **2.인공지능 음성인식 시스템**\n",
        "[SORIZAVA](https://www.sorizava.co.kr/voice/intro.php?gclid=Cj0KCQjwzZj2BRDVARIsABs3l9JVDDfawy4zfgwMPG3V7pyNAvPOnAeDQ7Ok30P61z_rt-iFS7xrgN8aAuyDEALw_wcB_)\n",
        "\n",
        "# **3.인공지능 이미지 인식 서비스**\n",
        "##내가 원하는 사진을 검색해주는 **구글 포토 서비스**\n",
        "###어떤 지역에서 찍은 사진을 찾고 싶거나, 특정 인물을 검색하고 싶다면 구글 포토가 알아서 만들어 놓은 사진첩을 통해 관련 사진을 찾을 수 있습니다.\n",
        "\n",
        "##이미지 분석을 통해 질병을 예측하고 분석하는 **의료 서비스**\n",
        "###우리나라 성인 남녀 사망률 상위를 차지하는 질병, 폐암은 말기에 발견되는 경우 생존율 6.1%지만 조기 발견의 경우 생존율이 64%까지 상승한다고 합니다. 그런데 국내 폐암 환자 조기진단 비율은 20.7%에 불과한데요. 병변의 크기가 작거나 다른 장기에 가려져 판독하기 어려운 경우 X-선 검사에서 폐암을 놓치기 쉬워서 그렇습니다.\n",
        "###국내 의료 스타트업에서는 이런 문제점들을 개선하는 **이미지 분석 서비스**를 내놓고 있습니다. CT검사 결과를 기반으로 학습한 이미지 분석 엔진이 폐 결절을 97% 정확도로 찾아내고, 또 영상 판독을 보조해주는 경우 의사의 판독 정확도는 20%가 향상되는 실험 결과를 내놨습니다. 폐암뿐만 아니라 유방암이나 조직 검사, 그리고 다른 질병에도 활용 범위를 넓혀가고 있고 국내 주요 대학병원에서 이미 활용 중이라고 합니다.\n",
        "\n",
        "# **4.인공지능 자율주행자동차**\n",
        "### 지난 2010년 구글이 처음으로 무인자동차를 선보인 이후, 전세계 자동차 회사들이 무인자동차 자율주행 기술개발에 열을 올리고 있다. 2013년 벤츠는 무인자동차로 100Km 자율주행에 성공했고 아우디도 2014년에 자율주행기술을 공개했다. 더 들어가서 국내 무인 자동차의 실정을 보면 2014년에 운전자 없이 주행하고 비어있는 주차 공간을 알아서 찾아 주차하는 무인자동차 기술이 공개되었다. 차후에는, 신호등에서 보낸 전파를 무인자동차에서 수신하여 신호등이 적색인지 청색인지, 또 언제 신호가 바뀌는지 등의 정보에 대응할 수 있는 무인자동차 기술개발이 진행될 예정이다. 이와 같이 무인자동차 기술개발은 한창 진행 중에 있어 빠르면 2020년부터 고속도로뿐만 아니라 도심에서 주행이 가능할 것으로 보인다는 말이 있다. 하지만 설치된 센서 등 장비 가격만 1억 원에 달해 상용화까지는 시간이 더 많은 시간이 필요할 것이라는 말도 있다. -위키백과 출처\n",
        "\n"
      ]
    }
  ]
}